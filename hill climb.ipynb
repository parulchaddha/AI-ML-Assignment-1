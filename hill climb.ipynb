{
 "cells": [
  {
   "cell_type": "code",
   "execution_count": 2,
   "id": "43ba1b42",
   "metadata": {},
   "outputs": [
    {
     "name": "stdout",
     "output_type": "stream",
     "text": [
      "Final Solution: [3, 9, 5]\n",
      "Final Score: 17\n"
     ]
    }
   ],
   "source": [
    "import random\n",
    "\n",
    "SuccList ={ 'A':[['T',11],['B',13],['C',21]], 'T':[['D',27],['B',13]],'B':[['D',27],['E',3]], 'C':[['F',25],['G',4]], 'D':[['H',101],['I',99]],'F': [['J',67]]\n",
    ",'G':[['K',99],['L',3]],'H':[['M',17]],'I':[['M',17]],'J':[['M',17]]}\n",
    "Start='A'\n",
    "\n",
    "Closed = list()\n",
    "Candidate = [['T',11],['B',13],['C',21]]\n",
    "\n",
    "def MOVEGEN(N):\n",
    "    New_list=list()\n",
    "    if N in SuccList.keys():\n",
    "        New_list=SuccList[N]\n",
    "\n",
    "    return New_list\n",
    "\n",
    "def SORT(L):\n",
    "    L.sort(key = lambda x: x[1],reverse=True) \n",
    "    return L \n",
    "\n",
    "def heu(Node): #Node = ['B',2]--> [Node[0],Node[1]]\n",
    "    return Node[1]\n",
    "\n",
    "def APPEND(L1,L2):\n",
    "    New_list=list(L1)+list(L2)\n",
    "    return New_list\n",
    "\n",
    "def Iterated_Hill_Climbing(Start,n):\n",
    "    global Closed\n",
    "    N=[Start,5]\n",
    "    bestNode=N\n",
    "    CLOSED=[N]\n",
    "    print(\"\\nInitial Point=\",N)\n",
    "    for i in range(1,n+1):\n",
    "        print(\"\\n*******************************\")\n",
    "        print(\"For iteration i=\",i)\n",
    "        N= random.choice(Candidate)\n",
    "        CHILD = MOVEGEN(N[0])\n",
    "        SORT(CHILD)\n",
    "        print(\"\\nStart=\",N)\n",
    "        print(\"Sorted Child List=\",CHILD)\n",
    "        newNode=CHILD[0]\n",
    "        CLOSED=[N]\n",
    "\n",
    "        while heu(newNode) > heu(N):\n",
    "            print(\"\\n---------\")\n",
    "            N= newNode\n",
    "            print(\"N=\",N)\n",
    "            CLOSED = APPEND(CLOSED,[N])\n",
    "            CHILD = MOVEGEN(N[0])\n",
    "            print(\"Child List=\",CHILD)\n",
    "            SORT(CHILD)\n",
    "            print(\"Sorted Child List=\",CHILD)\n",
    "            print(\"CLOSED=\",CLOSED)\n",
    "            newNode=CHILD[0]\n",
    "            if heu(newNode) > heu(bestNode):\n",
    "                bestNode=newNode\n",
    "\n",
    "    Closed=CLOSED\n",
    "    return bestNode\n",
    "\n",
    "\n",
    "bestNode=Iterated_Hill_Climbing(Start,3) #call search algorithm\n",
    "print(\"Best Node=\",bestNode)"
   ]
  },
  {
   "cell_type": "code",
   "execution_count": null,
   "id": "451139fb",
   "metadata": {},
   "outputs": [],
   "source": []
  }
 ],
 "metadata": {
  "kernelspec": {
   "display_name": "Python 3 (ipykernel)",
   "language": "python",
   "name": "python3"
  },
  "language_info": {
   "codemirror_mode": {
    "name": "ipython",
    "version": 3
   },
   "file_extension": ".py",
   "mimetype": "text/x-python",
   "name": "python",
   "nbconvert_exporter": "python",
   "pygments_lexer": "ipython3",
   "version": "3.11.5"
  }
 },
 "nbformat": 4,
 "nbformat_minor": 5
}
